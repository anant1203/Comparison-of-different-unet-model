{
 "cells": [
  {
   "cell_type": "code",
   "execution_count": 1,
   "id": "014fa49a-9735-40f1-97a0-ad2c3e8c3d70",
   "metadata": {
    "tags": []
   },
   "outputs": [
    {
     "name": "stderr",
     "output_type": "stream",
     "text": [
      "2024-09-18 15:07:37.413342: E external/local_xla/xla/stream_executor/cuda/cuda_dnn.cc:9261] Unable to register cuDNN factory: Attempting to register factory for plugin cuDNN when one has already been registered\n",
      "2024-09-18 15:07:37.413389: E external/local_xla/xla/stream_executor/cuda/cuda_fft.cc:607] Unable to register cuFFT factory: Attempting to register factory for plugin cuFFT when one has already been registered\n",
      "2024-09-18 15:07:37.414967: E external/local_xla/xla/stream_executor/cuda/cuda_blas.cc:1515] Unable to register cuBLAS factory: Attempting to register factory for plugin cuBLAS when one has already been registered\n",
      "2024-09-18 15:07:37.423315: I tensorflow/core/platform/cpu_feature_guard.cc:182] This TensorFlow binary is optimized to use available CPU instructions in performance-critical operations.\n",
      "To enable the following instructions: AVX2 FMA, in other operations, rebuild TensorFlow with the appropriate compiler flags.\n"
     ]
    }
   ],
   "source": [
    "import numpy as np\n",
    "import cv2\n",
    "import matplotlib.pyplot as plt\n",
    "import tensorflow as tf\n",
    "\n",
    "\n",
    "def rgb2gray(rgb):\n",
    "    return np.dot(rgb[...,:3], [0.2989, 0.5870, 0.1140])\n",
    "\n",
    "def resize_images(images, target_size=(224, 224)):\n",
    "    \"\"\"\n",
    "    Resize images to the target size.\n",
    "    \"\"\"\n",
    "    resized_images = [tf.image.resize(image, target_size).numpy() for image in images]\n",
    "    return np.array(resized_images)\n",
    "\n",
    "\n",
    "def calculating_iou(true_mask, pred_mask):\n",
    "    arr_iou=[]\n",
    "    for i in range(len(true_mask)):\n",
    "        intersection = np.logical_and(true_mask[i],pred_mask[i])\n",
    "        union = np.logical_or(true_mask[i], pred_mask[i])\n",
    "        iou_score = np.sum(intersection) / np.sum(union)\n",
    "        arr_iou.append(iou_score)\n",
    "    arr_iou=np.array(arr_iou)\n",
    "    arr_iou= np.nan_to_num(arr_iou, copy=True, nan=1.0)\n",
    "    mean_iou=arr_iou.mean()\n",
    "    return mean_iou\n"
   ]
  },
  {
   "cell_type": "code",
   "execution_count": 2,
   "id": "f6315800-e9e4-4539-80c7-bbdbac37932b",
   "metadata": {
    "tags": []
   },
   "outputs": [
    {
     "name": "stderr",
     "output_type": "stream",
     "text": [
      "2024-09-18 15:07:40.312511: I external/local_xla/xla/stream_executor/cuda/cuda_executor.cc:901] successful NUMA node read from SysFS had negative value (-1), but there must be at least one NUMA node, so returning NUMA node zero. See more at https://github.com/torvalds/linux/blob/v6.0/Documentation/ABI/testing/sysfs-bus-pci#L344-L355\n",
      "2024-09-18 15:07:40.323615: I external/local_xla/xla/stream_executor/cuda/cuda_executor.cc:901] successful NUMA node read from SysFS had negative value (-1), but there must be at least one NUMA node, so returning NUMA node zero. See more at https://github.com/torvalds/linux/blob/v6.0/Documentation/ABI/testing/sysfs-bus-pci#L344-L355\n",
      "2024-09-18 15:07:40.327054: I external/local_xla/xla/stream_executor/cuda/cuda_executor.cc:901] successful NUMA node read from SysFS had negative value (-1), but there must be at least one NUMA node, so returning NUMA node zero. See more at https://github.com/torvalds/linux/blob/v6.0/Documentation/ABI/testing/sysfs-bus-pci#L344-L355\n",
      "2024-09-18 15:07:40.332222: I external/local_xla/xla/stream_executor/cuda/cuda_executor.cc:901] successful NUMA node read from SysFS had negative value (-1), but there must be at least one NUMA node, so returning NUMA node zero. See more at https://github.com/torvalds/linux/blob/v6.0/Documentation/ABI/testing/sysfs-bus-pci#L344-L355\n",
      "2024-09-18 15:07:40.335617: I external/local_xla/xla/stream_executor/cuda/cuda_executor.cc:901] successful NUMA node read from SysFS had negative value (-1), but there must be at least one NUMA node, so returning NUMA node zero. See more at https://github.com/torvalds/linux/blob/v6.0/Documentation/ABI/testing/sysfs-bus-pci#L344-L355\n",
      "2024-09-18 15:07:40.338815: I external/local_xla/xla/stream_executor/cuda/cuda_executor.cc:901] successful NUMA node read from SysFS had negative value (-1), but there must be at least one NUMA node, so returning NUMA node zero. See more at https://github.com/torvalds/linux/blob/v6.0/Documentation/ABI/testing/sysfs-bus-pci#L344-L355\n",
      "2024-09-18 15:07:40.650985: I external/local_xla/xla/stream_executor/cuda/cuda_executor.cc:901] successful NUMA node read from SysFS had negative value (-1), but there must be at least one NUMA node, so returning NUMA node zero. See more at https://github.com/torvalds/linux/blob/v6.0/Documentation/ABI/testing/sysfs-bus-pci#L344-L355\n",
      "2024-09-18 15:07:40.653228: I external/local_xla/xla/stream_executor/cuda/cuda_executor.cc:901] successful NUMA node read from SysFS had negative value (-1), but there must be at least one NUMA node, so returning NUMA node zero. See more at https://github.com/torvalds/linux/blob/v6.0/Documentation/ABI/testing/sysfs-bus-pci#L344-L355\n",
      "2024-09-18 15:07:40.655283: I external/local_xla/xla/stream_executor/cuda/cuda_executor.cc:901] successful NUMA node read from SysFS had negative value (-1), but there must be at least one NUMA node, so returning NUMA node zero. See more at https://github.com/torvalds/linux/blob/v6.0/Documentation/ABI/testing/sysfs-bus-pci#L344-L355\n",
      "2024-09-18 15:07:40.657304: I tensorflow/core/common_runtime/gpu/gpu_device.cc:1929] Created device /job:localhost/replica:0/task:0/device:GPU:0 with 13764 MB memory:  -> device: 0, name: Tesla T4, pci bus id: 0000:00:04.0, compute capability: 7.5\n"
     ]
    },
    {
     "name": "stdout",
     "output_type": "stream",
     "text": [
      "Shape is (500, 224, 224, 3) (500, 224, 224, 1)\n"
     ]
    }
   ],
   "source": [
    "test_image = np.load(\"../../numpy_arr_data/test_img.npy\")\n",
    "mask_image = np.load(\"../../numpy_arr_data/test_vegetation_mask_gray_img.npy\")\n",
    "mask_image = mask_image[..., np.newaxis]\n",
    "test_image = resize_images(test_image)\n",
    "mask_image = resize_images(mask_image)\n",
    "\n",
    "print(f\"Shape is {test_image.shape} {mask_image.shape}\")"
   ]
  },
  {
   "cell_type": "code",
   "execution_count": 12,
   "id": "5a566d8c-f7ff-44c3-95a4-0eb187dfaa10",
   "metadata": {
    "tags": []
   },
   "outputs": [
    {
     "name": "stdout",
     "output_type": "stream",
     "text": [
      "16/16 [==============================] - 2s 93ms/step\n",
      "0.33429118812622205\n"
     ]
    }
   ],
   "source": [
    "model = tf.keras.models.load_model(\"../model/mobilenet_model/dynamic/mobilenet_model_224_70_dynamiclr.keras\")\n",
    "predicted = model.predict(test_image, verbose=1)\n",
    "\n",
    "pred_mask = []\n",
    "for mask in predicted:\n",
    "    mask = cv2.medianBlur(mask, 5)\n",
    "    mask = rgb2gray(mask)\n",
    "    mask[mask<0.5]=0\n",
    "    mask[mask>=0.5]=1\n",
    "    pred_mask.append(mask) \n",
    "\n",
    "mask_image = np.squeeze(mask_image)\n",
    "mask_image = np.array(mask_image)\n",
    "pred_mask = np.array(pred_mask)\n",
    "\n",
    "print(calculating_iou(mask_image, pred_mask))"
   ]
  },
  {
   "cell_type": "code",
   "execution_count": null,
   "id": "586ac80e-5721-4fc4-95b6-73e585aa9f0d",
   "metadata": {},
   "outputs": [],
   "source": []
  }
 ],
 "metadata": {
  "environment": {
   "kernel": "python3",
   "name": "tf2-gpu.2-15.m124",
   "type": "gcloud",
   "uri": "us-docker.pkg.dev/deeplearning-platform-release/gcr.io/tf2-gpu.2-15:m124"
  },
  "kernelspec": {
   "display_name": "Python 3",
   "language": "python",
   "name": "python3"
  },
  "language_info": {
   "codemirror_mode": {
    "name": "ipython",
    "version": 3
   },
   "file_extension": ".py",
   "mimetype": "text/x-python",
   "name": "python",
   "nbconvert_exporter": "python",
   "pygments_lexer": "ipython3",
   "version": "3.10.14"
  }
 },
 "nbformat": 4,
 "nbformat_minor": 5
}
