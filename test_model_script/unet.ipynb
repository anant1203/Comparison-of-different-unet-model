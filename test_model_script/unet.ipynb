{
 "cells": [
  {
   "cell_type": "code",
   "execution_count": 1,
   "id": "4b36b43d-ff61-4106-89ad-5ad3ae1ec7a2",
   "metadata": {
    "tags": []
   },
   "outputs": [
    {
     "name": "stderr",
     "output_type": "stream",
     "text": [
      "2024-09-08 03:45:44.291940: E external/local_xla/xla/stream_executor/cuda/cuda_dnn.cc:9261] Unable to register cuDNN factory: Attempting to register factory for plugin cuDNN when one has already been registered\n",
      "2024-09-08 03:45:44.291986: E external/local_xla/xla/stream_executor/cuda/cuda_fft.cc:607] Unable to register cuFFT factory: Attempting to register factory for plugin cuFFT when one has already been registered\n",
      "2024-09-08 03:45:44.293375: E external/local_xla/xla/stream_executor/cuda/cuda_blas.cc:1515] Unable to register cuBLAS factory: Attempting to register factory for plugin cuBLAS when one has already been registered\n",
      "2024-09-08 03:45:44.301554: I tensorflow/core/platform/cpu_feature_guard.cc:182] This TensorFlow binary is optimized to use available CPU instructions in performance-critical operations.\n",
      "To enable the following instructions: AVX2 FMA, in other operations, rebuild TensorFlow with the appropriate compiler flags.\n"
     ]
    }
   ],
   "source": [
    "import tensorflow as tf\n",
    "import numpy as np\n",
    "import random\n",
    "\n",
    "def set_seed(seed_value=42):\n",
    "    np.random.seed(seed_value)\n",
    "    random.seed(seed_value)\n",
    "    tf.random.set_seed(seed_value)\n",
    "\n",
    "set_seed(42)  # Set seed for reproducibility"
   ]
  },
  {
   "cell_type": "code",
   "execution_count": 2,
   "id": "5d19d42a-dcf4-4d48-8f11-5e2121e06410",
   "metadata": {
    "tags": []
   },
   "outputs": [
    {
     "name": "stderr",
     "output_type": "stream",
     "text": [
      "2024-09-08 03:45:47.081307: I external/local_xla/xla/stream_executor/cuda/cuda_executor.cc:901] successful NUMA node read from SysFS had negative value (-1), but there must be at least one NUMA node, so returning NUMA node zero. See more at https://github.com/torvalds/linux/blob/v6.0/Documentation/ABI/testing/sysfs-bus-pci#L344-L355\n",
      "2024-09-08 03:45:47.092487: I external/local_xla/xla/stream_executor/cuda/cuda_executor.cc:901] successful NUMA node read from SysFS had negative value (-1), but there must be at least one NUMA node, so returning NUMA node zero. See more at https://github.com/torvalds/linux/blob/v6.0/Documentation/ABI/testing/sysfs-bus-pci#L344-L355\n",
      "2024-09-08 03:45:47.095865: I external/local_xla/xla/stream_executor/cuda/cuda_executor.cc:901] successful NUMA node read from SysFS had negative value (-1), but there must be at least one NUMA node, so returning NUMA node zero. See more at https://github.com/torvalds/linux/blob/v6.0/Documentation/ABI/testing/sysfs-bus-pci#L344-L355\n",
      "2024-09-08 03:45:47.100885: I external/local_xla/xla/stream_executor/cuda/cuda_executor.cc:901] successful NUMA node read from SysFS had negative value (-1), but there must be at least one NUMA node, so returning NUMA node zero. See more at https://github.com/torvalds/linux/blob/v6.0/Documentation/ABI/testing/sysfs-bus-pci#L344-L355\n",
      "2024-09-08 03:45:47.104190: I external/local_xla/xla/stream_executor/cuda/cuda_executor.cc:901] successful NUMA node read from SysFS had negative value (-1), but there must be at least one NUMA node, so returning NUMA node zero. See more at https://github.com/torvalds/linux/blob/v6.0/Documentation/ABI/testing/sysfs-bus-pci#L344-L355\n",
      "2024-09-08 03:45:47.107280: I external/local_xla/xla/stream_executor/cuda/cuda_executor.cc:901] successful NUMA node read from SysFS had negative value (-1), but there must be at least one NUMA node, so returning NUMA node zero. See more at https://github.com/torvalds/linux/blob/v6.0/Documentation/ABI/testing/sysfs-bus-pci#L344-L355\n",
      "2024-09-08 03:45:47.415468: I external/local_xla/xla/stream_executor/cuda/cuda_executor.cc:901] successful NUMA node read from SysFS had negative value (-1), but there must be at least one NUMA node, so returning NUMA node zero. See more at https://github.com/torvalds/linux/blob/v6.0/Documentation/ABI/testing/sysfs-bus-pci#L344-L355\n",
      "2024-09-08 03:45:47.417649: I external/local_xla/xla/stream_executor/cuda/cuda_executor.cc:901] successful NUMA node read from SysFS had negative value (-1), but there must be at least one NUMA node, so returning NUMA node zero. See more at https://github.com/torvalds/linux/blob/v6.0/Documentation/ABI/testing/sysfs-bus-pci#L344-L355\n",
      "2024-09-08 03:45:47.419693: I external/local_xla/xla/stream_executor/cuda/cuda_executor.cc:901] successful NUMA node read from SysFS had negative value (-1), but there must be at least one NUMA node, so returning NUMA node zero. See more at https://github.com/torvalds/linux/blob/v6.0/Documentation/ABI/testing/sysfs-bus-pci#L344-L355\n",
      "2024-09-08 03:45:47.421658: I tensorflow/core/common_runtime/gpu/gpu_device.cc:1929] Created device /job:localhost/replica:0/task:0/device:GPU:0 with 13764 MB memory:  -> device: 0, name: Tesla T4, pci bus id: 0000:00:04.0, compute capability: 7.5\n"
     ]
    },
    {
     "name": "stdout",
     "output_type": "stream",
     "text": [
      "Model: \"model\"\n",
      "__________________________________________________________________________________________________\n",
      " Layer (type)                Output Shape                 Param #   Connected to                  \n",
      "==================================================================================================\n",
      " input_1 (InputLayer)        [(None, 224, 224, 3)]        0         []                            \n",
      "                                                                                                  \n",
      " conv2d (Conv2D)             (None, 224, 224, 64)         1792      ['input_1[0][0]']             \n",
      "                                                                                                  \n",
      " conv2d_1 (Conv2D)           (None, 224, 224, 64)         36928     ['conv2d[0][0]']              \n",
      "                                                                                                  \n",
      " max_pooling2d (MaxPooling2  (None, 112, 112, 64)         0         ['conv2d_1[0][0]']            \n",
      " D)                                                                                               \n",
      "                                                                                                  \n",
      " conv2d_2 (Conv2D)           (None, 112, 112, 128)        73856     ['max_pooling2d[0][0]']       \n",
      "                                                                                                  \n",
      " conv2d_3 (Conv2D)           (None, 112, 112, 128)        147584    ['conv2d_2[0][0]']            \n",
      "                                                                                                  \n",
      " max_pooling2d_1 (MaxPoolin  (None, 56, 56, 128)          0         ['conv2d_3[0][0]']            \n",
      " g2D)                                                                                             \n",
      "                                                                                                  \n",
      " conv2d_4 (Conv2D)           (None, 56, 56, 256)          295168    ['max_pooling2d_1[0][0]']     \n",
      "                                                                                                  \n",
      " conv2d_5 (Conv2D)           (None, 56, 56, 256)          590080    ['conv2d_4[0][0]']            \n",
      "                                                                                                  \n",
      " max_pooling2d_2 (MaxPoolin  (None, 28, 28, 256)          0         ['conv2d_5[0][0]']            \n",
      " g2D)                                                                                             \n",
      "                                                                                                  \n",
      " conv2d_6 (Conv2D)           (None, 28, 28, 512)          1180160   ['max_pooling2d_2[0][0]']     \n",
      "                                                                                                  \n",
      " conv2d_7 (Conv2D)           (None, 28, 28, 512)          2359808   ['conv2d_6[0][0]']            \n",
      "                                                                                                  \n",
      " max_pooling2d_3 (MaxPoolin  (None, 14, 14, 512)          0         ['conv2d_7[0][0]']            \n",
      " g2D)                                                                                             \n",
      "                                                                                                  \n",
      " conv2d_8 (Conv2D)           (None, 14, 14, 1024)         4719616   ['max_pooling2d_3[0][0]']     \n",
      "                                                                                                  \n",
      " conv2d_9 (Conv2D)           (None, 14, 14, 1024)         9438208   ['conv2d_8[0][0]']            \n",
      "                                                                                                  \n",
      " conv2d_transpose (Conv2DTr  (None, 28, 28, 512)          2097664   ['conv2d_9[0][0]']            \n",
      " anspose)                                                                                         \n",
      "                                                                                                  \n",
      " concatenate (Concatenate)   (None, 28, 28, 1024)         0         ['conv2d_7[0][0]',            \n",
      "                                                                     'conv2d_transpose[0][0]']    \n",
      "                                                                                                  \n",
      " conv2d_10 (Conv2D)          (None, 28, 28, 512)          4719104   ['concatenate[0][0]']         \n",
      "                                                                                                  \n",
      " conv2d_11 (Conv2D)          (None, 28, 28, 512)          2359808   ['conv2d_10[0][0]']           \n",
      "                                                                                                  \n",
      " conv2d_transpose_1 (Conv2D  (None, 56, 56, 256)          524544    ['conv2d_11[0][0]']           \n",
      " Transpose)                                                                                       \n",
      "                                                                                                  \n",
      " concatenate_1 (Concatenate  (None, 56, 56, 512)          0         ['conv2d_5[0][0]',            \n",
      " )                                                                   'conv2d_transpose_1[0][0]']  \n",
      "                                                                                                  \n",
      " conv2d_12 (Conv2D)          (None, 56, 56, 256)          1179904   ['concatenate_1[0][0]']       \n",
      "                                                                                                  \n",
      " conv2d_13 (Conv2D)          (None, 56, 56, 256)          590080    ['conv2d_12[0][0]']           \n",
      "                                                                                                  \n",
      " conv2d_transpose_2 (Conv2D  (None, 112, 112, 128)        131200    ['conv2d_13[0][0]']           \n",
      " Transpose)                                                                                       \n",
      "                                                                                                  \n",
      " concatenate_2 (Concatenate  (None, 112, 112, 256)        0         ['conv2d_3[0][0]',            \n",
      " )                                                                   'conv2d_transpose_2[0][0]']  \n",
      "                                                                                                  \n",
      " conv2d_14 (Conv2D)          (None, 112, 112, 128)        295040    ['concatenate_2[0][0]']       \n",
      "                                                                                                  \n",
      " conv2d_15 (Conv2D)          (None, 112, 112, 128)        147584    ['conv2d_14[0][0]']           \n",
      "                                                                                                  \n",
      " conv2d_transpose_3 (Conv2D  (None, 224, 224, 64)         32832     ['conv2d_15[0][0]']           \n",
      " Transpose)                                                                                       \n",
      "                                                                                                  \n",
      " concatenate_3 (Concatenate  (None, 224, 224, 128)        0         ['conv2d_1[0][0]',            \n",
      " )                                                                   'conv2d_transpose_3[0][0]']  \n",
      "                                                                                                  \n",
      " conv2d_16 (Conv2D)          (None, 224, 224, 64)         73792     ['concatenate_3[0][0]']       \n",
      "                                                                                                  \n",
      " conv2d_17 (Conv2D)          (None, 224, 224, 64)         36928     ['conv2d_16[0][0]']           \n",
      "                                                                                                  \n",
      " conv2d_18 (Conv2D)          (None, 224, 224, 1)          65        ['conv2d_17[0][0]']           \n",
      "                                                                                                  \n",
      "==================================================================================================\n",
      "Total params: 31031745 (118.38 MB)\n",
      "Trainable params: 31031745 (118.38 MB)\n",
      "Non-trainable params: 0 (0.00 Byte)\n",
      "__________________________________________________________________________________________________\n"
     ]
    }
   ],
   "source": [
    "import tensorflow as tf\n",
    "from tensorflow.keras import layers, Model\n",
    "\n",
    "def unet_model(input_size=(224, 224, 3)):\n",
    "    inputs = tf.keras.Input(input_size)\n",
    "\n",
    "    # Encoder\n",
    "    conv1 = layers.Conv2D(64, 3, activation='relu', padding='same')(inputs)\n",
    "    conv1 = layers.Conv2D(64, 3, activation='relu', padding='same')(conv1)\n",
    "    pool1 = layers.MaxPooling2D(pool_size=(2, 2))(conv1)\n",
    "\n",
    "    conv2 = layers.Conv2D(128, 3, activation='relu', padding='same')(pool1)\n",
    "    conv2 = layers.Conv2D(128, 3, activation='relu', padding='same')(conv2)\n",
    "    pool2 = layers.MaxPooling2D(pool_size=(2, 2))(conv2)\n",
    "\n",
    "    conv3 = layers.Conv2D(256, 3, activation='relu', padding='same')(pool2)\n",
    "    conv3 = layers.Conv2D(256, 3, activation='relu', padding='same')(conv3)\n",
    "    pool3 = layers.MaxPooling2D(pool_size=(2, 2))(conv3)\n",
    "\n",
    "    conv4 = layers.Conv2D(512, 3, activation='relu', padding='same')(pool3)\n",
    "    conv4 = layers.Conv2D(512, 3, activation='relu', padding='same')(conv4)\n",
    "    pool4 = layers.MaxPooling2D(pool_size=(2, 2))(conv4)\n",
    "\n",
    "    conv5 = layers.Conv2D(1024, 3, activation='relu', padding='same')(pool4)\n",
    "    conv5 = layers.Conv2D(1024, 3, activation='relu', padding='same')(conv5)\n",
    "\n",
    "    # Decoder\n",
    "    up6 = layers.Conv2DTranspose(512, 2, strides=(2, 2), padding='same')(conv5)\n",
    "    merge6 = layers.concatenate([conv4, up6], axis=3)\n",
    "    conv6 = layers.Conv2D(512, 3, activation='relu', padding='same')(merge6)\n",
    "    conv6 = layers.Conv2D(512, 3, activation='relu', padding='same')(conv6)\n",
    "\n",
    "    up7 = layers.Conv2DTranspose(256, 2, strides=(2, 2), padding='same')(conv6)\n",
    "    merge7 = layers.concatenate([conv3, up7], axis=3)\n",
    "    conv7 = layers.Conv2D(256, 3, activation='relu', padding='same')(merge7)\n",
    "    conv7 = layers.Conv2D(256, 3, activation='relu', padding='same')(conv7)\n",
    "\n",
    "    up8 = layers.Conv2DTranspose(128, 2, strides=(2, 2), padding='same')(conv7)\n",
    "    merge8 = layers.concatenate([conv2, up8], axis=3)\n",
    "    conv8 = layers.Conv2D(128, 3, activation='relu', padding='same')(merge8)\n",
    "    conv8 = layers.Conv2D(128, 3, activation='relu', padding='same')(conv8)\n",
    "\n",
    "    up9 = layers.Conv2DTranspose(64, 2, strides=(2, 2), padding='same')(conv8)\n",
    "    merge9 = layers.concatenate([conv1, up9], axis=3)\n",
    "    conv9 = layers.Conv2D(64, 3, activation='relu', padding='same')(merge9)\n",
    "    conv9 = layers.Conv2D(64, 3, activation='relu', padding='same')(conv9)\n",
    "\n",
    "    conv10 = layers.Conv2D(1, 1, activation='sigmoid')(conv9)\n",
    "\n",
    "    return Model(inputs=inputs, outputs=conv10)\n",
    "\n",
    "# Create the model\n",
    "unet = unet_model()\n",
    "\n",
    "# Compile the model\n",
    "unet.compile(optimizer='adam', loss='binary_crossentropy', metrics=['accuracy'])\n",
    "unet.summary()\n"
   ]
  },
  {
   "cell_type": "code",
   "execution_count": 3,
   "id": "6761ee38-8bb8-4785-8814-7f960f38e607",
   "metadata": {
    "tags": []
   },
   "outputs": [
    {
     "data": {
      "text/plain": [
       "((2975, 224, 224, 3), (2975, 224, 224, 1))"
      ]
     },
     "execution_count": 3,
     "metadata": {},
     "output_type": "execute_result"
    }
   ],
   "source": [
    "import numpy as np\n",
    "\n",
    "train_images = np.load(\"../../numpy_arr_data/augmented_images.npy\")\n",
    "train_masks = np.load(\"../../numpy_arr_data/augmented_masks.npy\")\n",
    "train_masks = train_masks[...,np.newaxis]\n",
    "train_images.shape, train_masks.shape"
   ]
  },
  {
   "cell_type": "code",
   "execution_count": 4,
   "id": "221510d8-bb43-4b5c-ac36-efabb164a01d",
   "metadata": {
    "tags": []
   },
   "outputs": [
    {
     "data": {
      "text/plain": [
       "567"
      ]
     },
     "execution_count": 4,
     "metadata": {},
     "output_type": "execute_result"
    }
   ],
   "source": [
    "import gc\n",
    "gc.collect()"
   ]
  },
  {
   "cell_type": "code",
   "execution_count": 5,
   "id": "3de12b0e-f681-43d3-b9db-55cf60d369ac",
   "metadata": {
    "tags": []
   },
   "outputs": [],
   "source": [
    "# Define dynamic learning rate function\n",
    "def dynamic_lr(epoch, lr):\n",
    "    if epoch % 10 == 0 and epoch != 0:\n",
    "        lr = lr * 0.5  # Reduce learning rate every 10 epochs\n",
    "    return lr\n",
    "\n",
    "# Add learning rate scheduler callback\n",
    "lr_scheduler = tf.keras.callbacks.LearningRateScheduler(dynamic_lr)"
   ]
  },
  {
   "cell_type": "code",
   "execution_count": 6,
   "id": "84d4b186-3846-46c0-ba75-818d376b7bd7",
   "metadata": {
    "tags": []
   },
   "outputs": [
    {
     "name": "stdout",
     "output_type": "stream",
     "text": [
      "Epoch 1/50\n"
     ]
    },
    {
     "name": "stderr",
     "output_type": "stream",
     "text": [
      "2024-09-08 03:46:04.049776: I external/local_xla/xla/stream_executor/cuda/cuda_dnn.cc:454] Loaded cuDNN version 8904\n",
      "2024-09-08 03:46:28.295588: I external/local_xla/xla/service/service.cc:168] XLA service 0x7fb64836a890 initialized for platform CUDA (this does not guarantee that XLA will be used). Devices:\n",
      "2024-09-08 03:46:28.295627: I external/local_xla/xla/service/service.cc:176]   StreamExecutor device (0): Tesla T4, Compute Capability 7.5\n",
      "2024-09-08 03:46:28.302776: I tensorflow/compiler/mlir/tensorflow/utils/dump_mlir_util.cc:269] disabling MLIR crash reproducer, set env var `MLIR_CRASH_REPRODUCER_DIRECTORY` to enable.\n",
      "WARNING: All log messages before absl::InitializeLog() is called are written to STDERR\n",
      "I0000 00:00:1725767188.406352  431997 device_compiler.h:186] Compiled cluster using XLA!  This line is logged at most once for the lifetime of the process.\n"
     ]
    },
    {
     "name": "stdout",
     "output_type": "stream",
     "text": [
      "75/75 [==============================] - 201s 2s/step - loss: 0.3793 - accuracy: 0.8542 - val_loss: 0.3098 - val_accuracy: 0.8612 - lr: 0.0010\n",
      "Epoch 2/50\n",
      "75/75 [==============================] - 85s 1s/step - loss: 0.4276 - accuracy: 0.8590 - val_loss: 0.3709 - val_accuracy: 0.8612 - lr: 0.0010\n",
      "Epoch 3/50\n",
      "75/75 [==============================] - 84s 1s/step - loss: 0.3965 - accuracy: 0.8648 - val_loss: 0.3518 - val_accuracy: 0.8613 - lr: 0.0010\n",
      "Epoch 4/50\n",
      "75/75 [==============================] - 83s 1s/step - loss: 0.3428 - accuracy: 0.8665 - val_loss: 0.3368 - val_accuracy: 0.8652 - lr: 0.0010\n",
      "Epoch 5/50\n",
      "75/75 [==============================] - 83s 1s/step - loss: 0.3277 - accuracy: 0.8694 - val_loss: 0.3129 - val_accuracy: 0.8681 - lr: 0.0010\n",
      "Epoch 6/50\n",
      "75/75 [==============================] - 83s 1s/step - loss: 0.3180 - accuracy: 0.8724 - val_loss: 0.3050 - val_accuracy: 0.8717 - lr: 0.0010\n",
      "Epoch 7/50\n",
      "75/75 [==============================] - 83s 1s/step - loss: 0.3123 - accuracy: 0.8741 - val_loss: 0.2974 - val_accuracy: 0.8740 - lr: 0.0010\n",
      "Epoch 8/50\n",
      "75/75 [==============================] - 83s 1s/step - loss: 0.3083 - accuracy: 0.8752 - val_loss: 0.2964 - val_accuracy: 0.8747 - lr: 0.0010\n",
      "Epoch 9/50\n",
      "75/75 [==============================] - 83s 1s/step - loss: 0.3033 - accuracy: 0.8773 - val_loss: 0.3029 - val_accuracy: 0.8745 - lr: 0.0010\n",
      "Epoch 10/50\n",
      "75/75 [==============================] - 83s 1s/step - loss: 0.3023 - accuracy: 0.8774 - val_loss: 0.3034 - val_accuracy: 0.8734 - lr: 0.0010\n",
      "Epoch 11/50\n",
      "75/75 [==============================] - 82s 1s/step - loss: 0.3065 - accuracy: 0.8782 - val_loss: 0.2984 - val_accuracy: 0.8757 - lr: 0.0010\n",
      "Epoch 12/50\n",
      "75/75 [==============================] - 82s 1s/step - loss: 0.3006 - accuracy: 0.8789 - val_loss: 0.2900 - val_accuracy: 0.8785 - lr: 0.0010\n",
      "Epoch 13/50\n",
      "75/75 [==============================] - 82s 1s/step - loss: 0.3007 - accuracy: 0.8793 - val_loss: 0.3004 - val_accuracy: 0.8780 - lr: 0.0010\n",
      "Epoch 14/50\n",
      "75/75 [==============================] - 82s 1s/step - loss: 0.2964 - accuracy: 0.8803 - val_loss: 0.2893 - val_accuracy: 0.8788 - lr: 0.0010\n",
      "Epoch 15/50\n",
      "75/75 [==============================] - 82s 1s/step - loss: 0.2954 - accuracy: 0.8808 - val_loss: 0.2875 - val_accuracy: 0.8792 - lr: 0.0010\n",
      "Epoch 16/50\n",
      "75/75 [==============================] - 82s 1s/step - loss: 0.2927 - accuracy: 0.8816 - val_loss: 0.2974 - val_accuracy: 0.8788 - lr: 0.0010\n",
      "Epoch 17/50\n",
      "75/75 [==============================] - 82s 1s/step - loss: 0.2954 - accuracy: 0.8811 - val_loss: 0.2938 - val_accuracy: 0.8784 - lr: 0.0010\n",
      "Epoch 18/50\n",
      "75/75 [==============================] - 82s 1s/step - loss: 0.2901 - accuracy: 0.8823 - val_loss: 0.2812 - val_accuracy: 0.8812 - lr: 0.0010\n",
      "Epoch 19/50\n",
      "75/75 [==============================] - 82s 1s/step - loss: 0.2901 - accuracy: 0.8825 - val_loss: 0.2826 - val_accuracy: 0.8808 - lr: 0.0010\n",
      "Epoch 20/50\n",
      "75/75 [==============================] - 82s 1s/step - loss: 0.2890 - accuracy: 0.8832 - val_loss: 0.2861 - val_accuracy: 0.8810 - lr: 0.0010\n",
      "Epoch 21/50\n",
      "75/75 [==============================] - 82s 1s/step - loss: 0.2900 - accuracy: 0.8828 - val_loss: 0.2850 - val_accuracy: 0.8812 - lr: 0.0010\n",
      "Epoch 22/50\n",
      "75/75 [==============================] - 82s 1s/step - loss: 0.2869 - accuracy: 0.8837 - val_loss: 0.2939 - val_accuracy: 0.8803 - lr: 0.0010\n",
      "Epoch 23/50\n",
      "75/75 [==============================] - 82s 1s/step - loss: 0.2883 - accuracy: 0.8835 - val_loss: 0.2801 - val_accuracy: 0.8826 - lr: 0.0010\n",
      "Epoch 24/50\n",
      "75/75 [==============================] - 82s 1s/step - loss: 0.2878 - accuracy: 0.8839 - val_loss: 0.2829 - val_accuracy: 0.8818 - lr: 0.0010\n",
      "Epoch 25/50\n",
      "75/75 [==============================] - 82s 1s/step - loss: 0.2878 - accuracy: 0.8840 - val_loss: 0.2761 - val_accuracy: 0.8833 - lr: 0.0010\n",
      "Epoch 26/50\n",
      "75/75 [==============================] - 82s 1s/step - loss: 0.2829 - accuracy: 0.8853 - val_loss: 0.2766 - val_accuracy: 0.8833 - lr: 0.0010\n",
      "Epoch 27/50\n",
      "75/75 [==============================] - 82s 1s/step - loss: 0.2833 - accuracy: 0.8850 - val_loss: 0.2749 - val_accuracy: 0.8845 - lr: 0.0010\n",
      "Epoch 28/50\n",
      "75/75 [==============================] - 82s 1s/step - loss: 0.2818 - accuracy: 0.8860 - val_loss: 0.2752 - val_accuracy: 0.8834 - lr: 0.0010\n",
      "Epoch 29/50\n",
      "75/75 [==============================] - 82s 1s/step - loss: 0.2849 - accuracy: 0.8848 - val_loss: 0.2859 - val_accuracy: 0.8810 - lr: 0.0010\n",
      "Epoch 30/50\n",
      "75/75 [==============================] - 82s 1s/step - loss: 0.2826 - accuracy: 0.8857 - val_loss: 0.2760 - val_accuracy: 0.8843 - lr: 0.0010\n",
      "Epoch 31/50\n",
      "75/75 [==============================] - 82s 1s/step - loss: 0.2806 - accuracy: 0.8860 - val_loss: 0.2797 - val_accuracy: 0.8815 - lr: 0.0010\n",
      "Epoch 32/50\n",
      "75/75 [==============================] - 82s 1s/step - loss: 0.2784 - accuracy: 0.8868 - val_loss: 0.2704 - val_accuracy: 0.8853 - lr: 0.0010\n",
      "Epoch 33/50\n",
      "75/75 [==============================] - 82s 1s/step - loss: 0.2809 - accuracy: 0.8863 - val_loss: 0.2723 - val_accuracy: 0.8846 - lr: 0.0010\n",
      "Epoch 34/50\n",
      "75/75 [==============================] - 82s 1s/step - loss: 0.2797 - accuracy: 0.8864 - val_loss: 0.2715 - val_accuracy: 0.8857 - lr: 0.0010\n",
      "Epoch 35/50\n",
      "75/75 [==============================] - 82s 1s/step - loss: 0.2772 - accuracy: 0.8875 - val_loss: 0.2699 - val_accuracy: 0.8858 - lr: 0.0010\n",
      "Epoch 36/50\n",
      "75/75 [==============================] - 82s 1s/step - loss: 0.2779 - accuracy: 0.8871 - val_loss: 0.2697 - val_accuracy: 0.8860 - lr: 0.0010\n",
      "Epoch 37/50\n",
      "75/75 [==============================] - 82s 1s/step - loss: 0.2759 - accuracy: 0.8878 - val_loss: 0.2709 - val_accuracy: 0.8861 - lr: 0.0010\n",
      "Epoch 38/50\n",
      "75/75 [==============================] - 82s 1s/step - loss: 0.2784 - accuracy: 0.8872 - val_loss: 0.2694 - val_accuracy: 0.8856 - lr: 0.0010\n",
      "Epoch 39/50\n",
      "75/75 [==============================] - 82s 1s/step - loss: 0.2745 - accuracy: 0.8882 - val_loss: 0.2691 - val_accuracy: 0.8863 - lr: 0.0010\n",
      "Epoch 40/50\n",
      "75/75 [==============================] - 82s 1s/step - loss: 0.2740 - accuracy: 0.8883 - val_loss: 0.2719 - val_accuracy: 0.8843 - lr: 0.0010\n",
      "Epoch 41/50\n",
      "75/75 [==============================] - 82s 1s/step - loss: 0.2778 - accuracy: 0.8876 - val_loss: 0.2727 - val_accuracy: 0.8852 - lr: 0.0010\n",
      "Epoch 42/50\n",
      "75/75 [==============================] - 82s 1s/step - loss: 0.2754 - accuracy: 0.8881 - val_loss: 0.2716 - val_accuracy: 0.8854 - lr: 0.0010\n",
      "Epoch 43/50\n",
      "75/75 [==============================] - 82s 1s/step - loss: 0.2744 - accuracy: 0.8883 - val_loss: 0.2690 - val_accuracy: 0.8859 - lr: 0.0010\n",
      "Epoch 44/50\n",
      "75/75 [==============================] - 82s 1s/step - loss: 0.2769 - accuracy: 0.8880 - val_loss: 0.2677 - val_accuracy: 0.8865 - lr: 0.0010\n",
      "Epoch 45/50\n",
      "75/75 [==============================] - 82s 1s/step - loss: 0.2738 - accuracy: 0.8886 - val_loss: 0.2681 - val_accuracy: 0.8863 - lr: 0.0010\n",
      "Epoch 46/50\n",
      "75/75 [==============================] - 82s 1s/step - loss: 0.2741 - accuracy: 0.8886 - val_loss: 0.2749 - val_accuracy: 0.8852 - lr: 0.0010\n",
      "Epoch 47/50\n",
      "75/75 [==============================] - 82s 1s/step - loss: 0.2723 - accuracy: 0.8894 - val_loss: 0.2747 - val_accuracy: 0.8849 - lr: 0.0010\n",
      "Epoch 48/50\n",
      "75/75 [==============================] - 82s 1s/step - loss: 0.2726 - accuracy: 0.8893 - val_loss: 0.2644 - val_accuracy: 0.8883 - lr: 0.0010\n",
      "Epoch 49/50\n",
      "75/75 [==============================] - 82s 1s/step - loss: 0.2697 - accuracy: 0.8901 - val_loss: 0.2647 - val_accuracy: 0.8879 - lr: 0.0010\n",
      "Epoch 50/50\n",
      "75/75 [==============================] - 82s 1s/step - loss: 0.2722 - accuracy: 0.8894 - val_loss: 0.2645 - val_accuracy: 0.8882 - lr: 0.0010\n"
     ]
    }
   ],
   "source": [
    "# Clear the session to avoid any potential issues with model state\n",
    "tf.keras.backend.clear_session()\n",
    "\n",
    "reduce_lr = tf.keras.callbacks.ReduceLROnPlateau(monitor='val_loss', factor=0.5, patience=5, min_lr=1e-6)\n",
    "\n",
    "# Train with ReduceLROnPlateau callback\n",
    "history = unet.fit(train_images, train_masks, epochs=50, batch_size=32, validation_split=0.2, callbacks=[reduce_lr])"
   ]
  },
  {
   "cell_type": "code",
   "execution_count": 8,
   "id": "42b458e6-c6a2-4a9d-8f29-dd883238b027",
   "metadata": {
    "tags": []
   },
   "outputs": [],
   "source": [
    "unet.save('../model/unet_original_model/unet_224_original_001_augemented.keras')"
   ]
  },
  {
   "cell_type": "code",
   "execution_count": 9,
   "id": "4a6ec69c-31ea-44b7-b909-bfcd91c0f8ee",
   "metadata": {},
   "outputs": [
    {
     "data": {
      "text/plain": [
       "4"
      ]
     },
     "execution_count": 9,
     "metadata": {},
     "output_type": "execute_result"
    }
   ],
   "source": [
    "2+2"
   ]
  },
  {
   "cell_type": "code",
   "execution_count": null,
   "id": "3596b1fe-d481-48f2-bc0d-255018f12f8d",
   "metadata": {},
   "outputs": [],
   "source": []
  }
 ],
 "metadata": {
  "environment": {
   "kernel": "python3",
   "name": "tf2-gpu.2-15.m124",
   "type": "gcloud",
   "uri": "us-docker.pkg.dev/deeplearning-platform-release/gcr.io/tf2-gpu.2-15:m124"
  },
  "kernelspec": {
   "display_name": "Python 3 (Local)",
   "language": "python",
   "name": "python3"
  },
  "language_info": {
   "codemirror_mode": {
    "name": "ipython",
    "version": 3
   },
   "file_extension": ".py",
   "mimetype": "text/x-python",
   "name": "python",
   "nbconvert_exporter": "python",
   "pygments_lexer": "ipython3",
   "version": "3.10.14"
  }
 },
 "nbformat": 4,
 "nbformat_minor": 5
}
